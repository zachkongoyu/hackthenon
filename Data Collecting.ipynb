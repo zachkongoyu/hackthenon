{
 "cells": [
  {
   "cell_type": "markdown",
   "metadata": {},
   "source": [
    "# Don't run this on Colab! Our file size is too large."
   ]
  },
  {
   "cell_type": "code",
   "execution_count": 8,
   "metadata": {
    "id": "eSawOBfhFoTI"
   },
   "outputs": [],
   "source": [
    "import pandas as pd\n",
    "from pandas import json_normalize\n",
    "import json\n",
    "import requests"
   ]
  },
  {
   "cell_type": "markdown",
   "metadata": {},
   "source": [
    "# 1. Call the API to get historical data"
   ]
  },
  {
   "cell_type": "code",
   "execution_count": 9,
   "metadata": {
    "colab": {
     "base_uri": "https://localhost:8080/"
    },
    "id": "9HjGiVmuFkHt",
    "outputId": "881fee97-19b1-4602-fe55-5f939e80de02"
   },
   "outputs": [],
   "source": [
    "ls = []\n",
    "\n",
    "date_interval = pd.date_range(start=\"2021/03/10\", end = \"2021/06/17\", freq=\"15t\")\n",
    "\n",
    "converted_dates=[]\n",
    "\n",
    "for date in date_interval:\n",
    "  converted_dates.append(date.strftime(\"%Y%m%d-%H%M\"))\n",
    "for date1 in converted_dates:\n",
    "  print(date1)\n",
    "  url = \"https://api.data.gov.hk/v1/historical-archive/get-file?url=https%3A%2F%2Fresource.data.one.gov.hk%2Ftd%2Fcarpark%2Fvacancy_all.json&time=\" + date1\n",
    "  vacancy_df = json.loads(requests.get(url).content)\n",
    "  ls.append(vacancy_df)"
   ]
  },
  {
   "cell_type": "markdown",
   "metadata": {},
   "source": [
    "## Save all the dates we call to the API"
   ]
  },
  {
   "cell_type": "code",
   "execution_count": 13,
   "metadata": {},
   "outputs": [],
   "source": [
    "pd.DataFrame(converted_dates).to_csv('date.csv', index=False)"
   ]
  },
  {
   "cell_type": "markdown",
   "metadata": {},
   "source": [
    "## Save the historical data as raw.csv"
   ]
  },
  {
   "cell_type": "code",
   "execution_count": 40,
   "metadata": {},
   "outputs": [],
   "source": [
    "copy = ls\n",
    "\n",
    "res = []\n",
    "for i in copy:\n",
    "    if i not in res:\n",
    "        res.append(i)\n",
    "        \n",
    "df = pd.DataFrame(res)\n",
    "df.to_csv('raw.csv', index=False)"
   ]
  },
  {
   "cell_type": "markdown",
   "metadata": {},
   "source": [
    "# 2. Call the API to get basic info"
   ]
  },
  {
   "cell_type": "code",
   "execution_count": 6,
   "metadata": {},
   "outputs": [],
   "source": [
    "url = 'https://resource.data.one.gov.hk/td/carpark/basic_info_all.json'\n",
    "\n",
    "d = json.loads(requests.get(url).content)\n",
    "d = list(d.values())[0]"
   ]
  },
  {
   "cell_type": "markdown",
   "metadata": {},
   "source": [
    "## Save the historical data as car_park_info.csv"
   ]
  },
  {
   "cell_type": "code",
   "execution_count": 7,
   "metadata": {},
   "outputs": [],
   "source": [
    "df = json_normalize(d)\n",
    "df = df.drop(['website_en', 'website_tc', 'website_sc'], axis=1).set_index('park_id')\n",
    "df.to_csv('car_park_info.csv')"
   ]
  }
 ],
 "metadata": {
  "colab": {
   "collapsed_sections": [],
   "name": "single_and_all.ipynb",
   "provenance": []
  },
  "kernelspec": {
   "display_name": "Python 3",
   "language": "python",
   "name": "python3"
  },
  "language_info": {
   "codemirror_mode": {
    "name": "ipython",
    "version": 3
   },
   "file_extension": ".py",
   "mimetype": "text/x-python",
   "name": "python",
   "nbconvert_exporter": "python",
   "pygments_lexer": "ipython3",
   "version": "3.8.8"
  }
 },
 "nbformat": 4,
 "nbformat_minor": 1
}
